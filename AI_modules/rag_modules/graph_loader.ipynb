{
 "cells": [
  {
   "cell_type": "code",
   "execution_count": 1,
   "id": "7a76532f",
   "metadata": {},
   "outputs": [
    {
     "name": "stderr",
     "output_type": "stream",
     "text": [
      "c:\\Python311\\Lib\\site-packages\\tqdm\\auto.py:21: TqdmWarning: IProgress not found. Please update jupyter and ipywidgets. See https://ipywidgets.readthedocs.io/en/stable/user_install.html\n",
      "  from .autonotebook import tqdm as notebook_tqdm\n"
     ]
    }
   ],
   "source": [
    "import asyncio\n",
    "import nest_asyncio\n",
    "\n",
    "nest_asyncio.apply()\n",
    "\n",
    "from llama_index.core.graph_stores.types import (\n",
    "    EntityNode,\n",
    "    KG_NODES_KEY,\n",
    "    KG_RELATIONS_KEY,\n",
    "    Relation,\n",
    ")\n",
    "from llama_index.core import PropertyGraphIndex\n",
    "from llama_index.core.indices.property_graph import SchemaLLMPathExtractor\n",
    "from llama_index.graph_stores.neo4j import Neo4jPropertyGraphStore\n",
    "\n",
    "from llama_index.core.prompts import PromptTemplate\n",
    "from llama_index.llms.huggingface import  HuggingFaceInferenceAPI\n",
    "from llama_index.embeddings.huggingface import HuggingFaceEmbedding\n",
    "from llama_index.llms.mistralai import MistralAI\n",
    "from llama_index.llms.gemini import Gemini\n",
    "\n",
    "from llama_index.core import  VectorStoreIndex, StorageContext, QueryBundle, load_index_from_storage, Settings, Document"
   ]
  },
  {
   "cell_type": "code",
   "execution_count": null,
   "id": "74eb9761",
   "metadata": {},
   "outputs": [],
   "source": [
    "Gemini"
   ]
  },
  {
   "cell_type": "code",
   "execution_count": null,
   "id": "171ebf7f",
   "metadata": {},
   "outputs": [
    {
     "data": {
      "text/plain": [
       "True"
      ]
     },
     "execution_count": 2,
     "metadata": {},
     "output_type": "execute_result"
    }
   ],
   "source": [
    "import pandas as pd\n",
    "import os\n",
    "from dotenv import load_dotenv\n",
    "import json\n",
    "\n",
    "load_dotenv(r\"C:\\Users\\leduc\\OneDrive\\Desktop\\NLP\\grab-capstone-project\\NavigaTech\\AI_modules\\.env\")"
   ]
  },
  {
   "cell_type": "code",
   "execution_count": null,
   "id": "1b97f0cc",
   "metadata": {},
   "outputs": [],
   "source": [
    "with open(r\"C:\\Users\\leduc\\OneDrive\\Desktop\\NLP\\grab-capstone-project\\NavigaTech\\AI_modules\\data\\rag_data\\sample_data.json\") as f:\n",
    "    data = json.load(f)\n",
    "\n",
    "df = pd.DataFrame(data)\n",
    "# df = df[0:100]\n",
    "role = df[\"search_keyword\"].str.upper().str.replace(' ', '_').unique()\n",
    "job_title = df[\"title\"].str.upper().str.replace(' ', '_').unique()\n",
    "location = df[\"location\"].str.upper().str.split(\",\").str[0].str.strip().str.replace(' ', '_').unique()\n",
    "\n"
   ]
  },
  {
   "cell_type": "code",
   "execution_count": 13,
   "id": "06c380cb",
   "metadata": {},
   "outputs": [],
   "source": [
    "# llm = HuggingFaceInferenceAPI(model_name=\"mistralai/Mistral-7B-Instruct-v0.3\", token=os.environ[\"HF_TOKEN\"])\n",
    "llm = MistralAI(model=\"mistral-large-lastest\", api_key=os.environ[\"MISTRAL_API_KEY\"], random_seed=221, max_tokens=1000)\n",
    "embbeding_model = HuggingFaceEmbedding(model_name=\"BAAI/bge-m3\")\n",
    "\n",
    "Settings.llm = llm\n",
    "Settings.embed_model = embbeding_model"
   ]
  },
  {
   "cell_type": "code",
   "execution_count": 5,
   "id": "bdf73af6",
   "metadata": {},
   "outputs": [],
   "source": [
    "graph_store = Neo4jPropertyGraphStore(\n",
    "    username=os.environ[\"NEO4J_USERNAME\"],\n",
    "    password=os.environ[\"NEO4J_PASSWORD\"],\n",
    "    url=\"neo4j+s://2f233f79.databases.neo4j.io\",\n",
    ")"
   ]
  },
  {
   "cell_type": "code",
   "execution_count": 6,
   "id": "89e8b7a7",
   "metadata": {},
   "outputs": [
    {
     "data": {
      "text/plain": [
       "100"
      ]
     },
     "execution_count": 6,
     "metadata": {},
     "output_type": "execute_result"
    }
   ],
   "source": [
    "documents = []\n",
    "for index, row in df.iterrows():\n",
    "    meta = {\n",
    "        \"id\": row[\"id\"],\n",
    "        \"title\": row[\"title\"],\n",
    "        \"company\": row[\"company\"],\n",
    "        \"link\": row[\"link\"],\n",
    "        \"keyword\": row[\"search_keyword\"],\n",
    "        \"location\": row[\"location\"]\n",
    "    }\n",
    "    doc = Document(text = row[\"description\"], metadata=meta)\n",
    "    documents.append(doc)\n",
    "len(documents)"
   ]
  },
  {
   "cell_type": "code",
   "execution_count": null,
   "id": "48ad101b",
   "metadata": {},
   "outputs": [
    {
     "name": "stderr",
     "output_type": "stream",
     "text": [
      "Parsing nodes: 100%|██████████| 100/100 [00:01<00:00, 98.48it/s]\n",
      "Extracting paths from text with schema: 100%|██████████| 130/130 [00:00<00:00, 6040.12it/s]\n",
      "Generating embeddings:   0%|          | 0/13 [00:00<?, ?it/s]"
     ]
    }
   ],
   "source": [
    "index = PropertyGraphIndex.from_documents(\n",
    "    documents,\n",
    "    embed_model=embbeding_model,\n",
    "    kg_extractors=[\n",
    "        SchemaLLMPathExtractor(\n",
    "            llm=llm\n",
    "        )\n",
    "    ],\n",
    "    property_graph_store=graph_store,\n",
    "    show_progress=True,\n",
    ")"
   ]
  },
  {
   "cell_type": "code",
   "execution_count": null,
   "id": "c36930d0",
   "metadata": {},
   "outputs": [],
   "source": []
  }
 ],
 "metadata": {
  "kernelspec": {
   "display_name": "Python 3",
   "language": "python",
   "name": "python3"
  },
  "language_info": {
   "codemirror_mode": {
    "name": "ipython",
    "version": 3
   },
   "file_extension": ".py",
   "mimetype": "text/x-python",
   "name": "python",
   "nbconvert_exporter": "python",
   "pygments_lexer": "ipython3",
   "version": "3.11.4"
  }
 },
 "nbformat": 4,
 "nbformat_minor": 5
}
