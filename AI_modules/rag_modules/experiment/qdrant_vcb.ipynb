{
 "cells": [
  {
   "cell_type": "code",
   "execution_count": 27,
   "id": "a80fee1b",
   "metadata": {},
   "outputs": [
    {
     "data": {
      "text/plain": [
       "True"
      ]
     },
     "execution_count": 27,
     "metadata": {},
     "output_type": "execute_result"
    }
   ],
   "source": [
    "import os \n",
    "import json\n",
    "import pandas as pd\n",
    "from dotenv import load_dotenv\n",
    "from qdrant_client import QdrantClient, AsyncQdrantClient\n",
    "from qdrant_client.http import models\n",
    "from llama_index.vector_stores.qdrant import QdrantVectorStore\n",
    "from llama_index.embeddings.huggingface import HuggingFaceEmbedding\n",
    "from llama_index.core import  StorageContext, load_index_from_storage, Settings, VectorStoreIndex, Document\n",
    "from llama_index.core.vector_stores import MetadataFilter, MetadataFilters, FilterOperator, FilterCondition\n",
    "from llama_index.core.response.notebook_utils import display_source_node\n",
    "\n",
    "\n",
    "import nest_asyncio\n",
    "\n",
    "nest_asyncio.apply()\n",
    "\n",
    "load_dotenv(r\"C:\\Users\\leduc\\OneDrive\\Desktop\\NLP\\grab-capstone-project\\NavigaTech\\AI_modules\\.env\")"
   ]
  },
  {
   "cell_type": "code",
   "execution_count": 11,
   "id": "5efcd720",
   "metadata": {},
   "outputs": [
    {
     "name": "stderr",
     "output_type": "stream",
     "text": [
      "c:\\Python311\\Lib\\site-packages\\torch\\_utils.py:831: UserWarning: TypedStorage is deprecated. It will be removed in the future and UntypedStorage will be the only storage class. This should only matter to you if you are using storages directly.  To access UntypedStorage directly, use tensor.untyped_storage() instead of tensor.storage()\n",
      "  return self.fget.__get__(instance, owner)()\n"
     ]
    }
   ],
   "source": [
    "\n",
    "embbeding_model = HuggingFaceEmbedding(model_name=\"BAAI/bge-m3\")\n",
    "\n",
    "\n",
    "Settings.embed_model = embbeding_model"
   ]
  },
  {
   "cell_type": "code",
   "execution_count": null,
   "id": "8bd5e9b4",
   "metadata": {},
   "outputs": [],
   "source": [
    "qdrant_client = QdrantClient(\n",
    "    url= os.environ[\"QDRANT_URL\"],\n",
    "    api_key=os.environ[\"QDRANT_API_TOKEN\"],\n",
    ")\n",
    "\n",
    "async_qdrant_client = AsyncQdrantClient(\n",
    "    url= os.environ[\"QDRANT_URL\"],\n",
    "    api_key=os.environ[\"QDRANT_API_TOKEN\"],\n",
    ")"
   ]
  },
  {
   "cell_type": "code",
   "execution_count": 3,
   "id": "0db0a737",
   "metadata": {},
   "outputs": [
    {
     "data": {
      "text/plain": [
       "CollectionsResponse(collections=[CollectionDescription(name='job_description')])"
      ]
     },
     "execution_count": 3,
     "metadata": {},
     "output_type": "execute_result"
    }
   ],
   "source": [
    "qdrant_client.get_collections()"
   ]
  },
  {
   "cell_type": "code",
   "execution_count": null,
   "id": "720b6392",
   "metadata": {},
   "outputs": [
    {
     "data": {
      "text/plain": [
       "True"
      ]
     },
     "execution_count": 8,
     "metadata": {},
     "output_type": "execute_result"
    }
   ],
   "source": [
    "# collection_config = models.VectorParams(\n",
    "#     size = 1024,\n",
    "#     distance = models.Distance.COSINE\n",
    "# )\n",
    "\n",
    "# qdrant_client.create_collection(\n",
    "#     collection_name= \"job_description\",\n",
    "#     vectors_config= collection_config\n",
    "# )"
   ]
  },
  {
   "cell_type": "code",
   "execution_count": 4,
   "id": "08e0e73d",
   "metadata": {},
   "outputs": [],
   "source": [
    "vector_store = QdrantVectorStore(client=qdrant_client, aclient = async_qdrant_client ,collection_name=\"job_description\")"
   ]
  },
  {
   "cell_type": "code",
   "execution_count": 5,
   "id": "173ad598",
   "metadata": {},
   "outputs": [],
   "source": [
    "storage_context = StorageContext.from_defaults(vector_store=vector_store)"
   ]
  },
  {
   "cell_type": "code",
   "execution_count": 9,
   "id": "c628b117",
   "metadata": {},
   "outputs": [],
   "source": [
    "with open(r\"C:\\Users\\leduc\\OneDrive\\Desktop\\NLP\\grab-capstone-project\\NavigaTech\\AI_modules\\data\\rag_data\\sample_data.json\") as f:\n",
    "    data = json.load(f)\n",
    "\n",
    "df = pd.DataFrame(data)\n",
    "df = df[0:100]"
   ]
  },
  {
   "cell_type": "code",
   "execution_count": 12,
   "id": "d9d49b59",
   "metadata": {},
   "outputs": [
    {
     "name": "stderr",
     "output_type": "stream",
     "text": [
      "c:\\Python311\\Lib\\site-packages\\torch\\_utils.py:831: UserWarning: TypedStorage is deprecated. It will be removed in the future and UntypedStorage will be the only storage class. This should only matter to you if you are using storages directly.  To access UntypedStorage directly, use tensor.untyped_storage() instead of tensor.storage()\n",
      "  return self.fget.__get__(instance, owner)()\n"
     ]
    }
   ],
   "source": [
    "embedding_model = HuggingFaceEmbedding(\"BAAI/bge-m3\")\n",
    "Settings.embed_model = embedding_model"
   ]
  },
  {
   "cell_type": "code",
   "execution_count": 15,
   "id": "03df5b18",
   "metadata": {},
   "outputs": [],
   "source": [
    "documents = []\n",
    "for index, row in df.iterrows():\n",
    "    meta = {\n",
    "        \"id\": row[\"id\"],\n",
    "        \"title\": row[\"title\"],\n",
    "        \"company\": row[\"company\"],\n",
    "        \"link\": row[\"link\"],\n",
    "        \"keyword\": row[\"search_keyword\"],\n",
    "        \"location\": row[\"location\"]\n",
    "    }\n",
    "    doc = Document(text = row[\"description\"], metadata=meta)\n",
    "    documents.append(doc)"
   ]
  },
  {
   "cell_type": "code",
   "execution_count": 21,
   "id": "e89be6f1",
   "metadata": {},
   "outputs": [],
   "source": [
    "# index = VectorStoreIndex.from_documents(\n",
    "#     documents,\n",
    "#     storage_context=storage_context,\n",
    "#     show_progress = True\n",
    "# )\n",
    "index = VectorStoreIndex.from_vector_store(\n",
    "    vector_store,\n",
    "    use_async = True\n",
    ")"
   ]
  },
  {
   "cell_type": "code",
   "execution_count": 28,
   "id": "ed081397",
   "metadata": {},
   "outputs": [],
   "source": [
    "def filter_constructor(fields):\n",
    "    filters = []\n",
    "    for k, v in fields.items():\n",
    "        filters.append(MetadataFilter(key = k, value=v))\n",
    "    \n",
    "    final_filters = MetadataFilters(\n",
    "        filters=filters,\n",
    "        condition=FilterCondition.AND\n",
    "    )\n",
    "    return final_filters"
   ]
  },
  {
   "cell_type": "code",
   "execution_count": 33,
   "id": "07c82bd1",
   "metadata": {},
   "outputs": [],
   "source": [
    "filters = filter_constructor({\"location\": \"United States\"})\n",
    "retriever = index.as_retriever(similarity_top_k=5, filters=filters ,use_async=True)"
   ]
  },
  {
   "cell_type": "code",
   "execution_count": 35,
   "id": "6a4c8f06",
   "metadata": {},
   "outputs": [
    {
     "data": {
      "text/plain": [
       "[NodeWithScore(node=TextNode(id_='e4a9dfda-828e-467d-b8d2-37ada4fb37f2', embedding=None, metadata={'id': '4208145067', 'title': 'Rising Star', 'company': 'Panasonic Audio Video Solutions', 'link': 'https://www.linkedin.com/jobs/view/4208145067/', 'keyword': 'Artificial Intelligence', 'location': 'United States'}, excluded_embed_metadata_keys=[], excluded_llm_metadata_keys=[], relationships={<NodeRelationship.SOURCE: '1'>: RelatedNodeInfo(node_id='de73e15c-a6a8-4265-a9bd-8a9d87f2938d', node_type='4', metadata={'id': '4208145067', 'title': 'Rising Star', 'company': 'Panasonic Audio Video Solutions', 'link': 'https://www.linkedin.com/jobs/view/4208145067/', 'keyword': 'Artificial Intelligence', 'location': 'United States'}, hash='175053591debb70e11c1b222a689ab24ab1fbcf83e6b6971779c85a9f54e755a')}, metadata_template='{key}: {value}', metadata_separator='\\n', text=\"JOB_DESCRIPTION.SHARE.HTMLCAROUSEL_PARAGRAPHJOB_DESCRIPTION.SHARE.HTMLUnited StatesGeneralFull-TimeHybrid / RemotePCONA Panasonic Connect North AmericaREQ-150244OverviewJob DescriptionThis 16-month rotational program will provide selected candidates with the introductory opportunity to gain real-world experience doing hands-on work across different functional areas within Panasonic Connect North America.ResponsibilitiesWhat You'll Get To DoBased on your experience and preference, you will spend 4 months in some of the following roles:Sales Support RepSupply Chain AnalystProject SpecialistMarketing SpecialistFinance, Planning and AnalysisProduct SpecialistEngineeringRising Stars Program Participants Will Have The Opportunity ToBe mentored by a diverse group of successful Panasonic Connect Managers and PeersAccompany Sales Managers and Field Engineers on customer visitsActively participate in Panasonic Connect trade and dealer showsVisit major partners to learn business operations in conjunction with learning to complete a sales processCreate content for our business(es) for go-to market strategies, engage with our intranet and social media platforms, prepare and plan trade showsPartner with finance to deep dive into accounting practices; create dashboards, prepare for monthly close, perform auditsHelp create processes towards continuous improvement within our teamsObserve and learn to analyze data in order to suggest changes and develop dashboards for visual monitoringWhat You'll BringEducation & Experience:Bachelor’s in: Business, Finance, Marketing, Engineering, Business or Supply Chain (or similar field). MBA a plus.1 to 3 years of experience in Project Management, Operations, Inside Sales, Supply Chain a plus!Some experience with MS Office Suite, PowerBi, SalesForce, AI Tools are preferredWhat We Offer Benefits & PerksHigh Performance CultureA focus on Diversity, Equity and InclusionTeamwork and CollaborationRewards and RecognitionLearning & Development Opportunities Across Multiple Business UnitsCompetitive compensation packagesHybrid work modelComprehensive benefitsPaid Parental Care LeaveEducational AssistanceVolunteer time offTotal Well Being ProgramEmployee Referral ProgramPanasonic is proud to be an Equal Opportunity/Affirmative Action employer. All qualified applicants will receive consideration for employment without regard to race, color, religion, gender identity, sex, sexual orientation, national origin, disability status, protected veteran status, and any other characteristic protected by law or company policy. All qualified individuals are required to perform the essential functions of the job with or without reasonable accommodation. Pre-employment drug testing is required for safety sensitive positions or as may otherwise be required by contract or law. Due to the high volume of responses, we will only be able to respond to candidates of interest. All candidates must have valid authorization to work in the U.S. Thank you for your interest in Panasonic Corporation of North America.The salary range below is just one component of Panasonic Connect's total package. Actual compensation varies depending on the individual’s knowledge, skills, and experience. This role may be eligible for discretionary bonuses and incentives.Salary Range$50,000 –$70,000 + Bonus REQ-150244\", mimetype='text/plain', start_char_idx=0, end_char_idx=3342, metadata_seperator='\\n', text_template='{metadata_str}\\n\\n{content}'), score=0.47701973),\n",
       " NodeWithScore(node=TextNode(id_='b09bb255-3a75-42c7-9833-be72a8009006', embedding=None, metadata={'id': '4206425032', 'title': 'AI Training for Operations Management and Research', 'company': 'Outlier', 'link': 'https://www.linkedin.com/jobs/view/4206425032/', 'keyword': 'Artificial Intelligence', 'location': 'United States'}, excluded_embed_metadata_keys=[], excluded_llm_metadata_keys=[], relationships={<NodeRelationship.SOURCE: '1'>: RelatedNodeInfo(node_id='55dd49ca-d4b2-4bd6-ae14-b1fea0ca017c', node_type='4', metadata={'id': '4206425032', 'title': 'AI Training for Operations Management and Research', 'company': 'Outlier', 'link': 'https://www.linkedin.com/jobs/view/4206425032/', 'keyword': 'Artificial Intelligence', 'location': 'United States'}, hash='cd5614718e2779cbb22873cae5f4035e90e7362253566adeea0194ae738f70a5')}, metadata_template='{key}: {value}', metadata_separator='\\n', text='As an AI Trainer for Operations Management and Research, you\\'ll rate, review, and rewrite AI responses on the subject of Strategic Management, all from the comfort of your own home . In doing so, you teach the model what \"good\" answers to Strategic Management questions looks like. This is a100% fully remote opportunity where you\\'ll enjoy a flexible choose-your-own-schedule. About the Opportunity:Cutting-Edge Projects: Work on challenging projects that push the boundaries of AIFlexibility: Set your own hours and work remotely from anywhere Weekly payouts: Get paid conveniently on a weekly basis Professional growth: Gain valuable experience in AI while honing your writing skills and deepening your domain expertise Collaborative environment: Join a team of talented professionals who share your passion for AI Duration: Variable depending on project length, flexible hours Responsibilities: You will train AI models by crafting and answering questions related to Strategic Management. You will evaluate and rank responses generated by AI systems. You will use your domain expertise to assess the factuality and relevance of text produced by AI models Qualifications:A bachelor\\'s or higher degree in operations management, business, strategic management or a related subject Ability to write engaging, accurate, and insightful content related to Management Research and fact-checking abilities Demonstrate exceptional writing skills, with a focus on clarity, brevity, and engagement Earnings: Hourly rate: Up to US $35.00, depending on your level of expertise Additional Note: This is a freelance position that is paid on a per-hour basis. We don’t offer internships as this is a freelance role. You must also be authorized to work in your country of residence, and we will not be providing sponsorship since this is a 1099 contract opportunity. However, if you are an international student, you may be able to sign up if you are on a visa. You should contact your tax/immigration advisor with specific questions regarding your circumstances. We are unable to provide any documentation supporting employment at this time. Please be advised that compensation rates may differ for non-US locations.', mimetype='text/plain', start_char_idx=0, end_char_idx=2202, metadata_seperator='\\n', text_template='{metadata_str}\\n\\n{content}'), score=0.44282675),\n",
       " NodeWithScore(node=TextNode(id_='f42d10c6-edb2-43aa-b075-642fa5a75102', embedding=None, metadata={'id': '4209600975', 'title': 'Academy Trainer and Curriculum Designer', 'company': 'Omilia', 'link': 'https://www.linkedin.com/jobs/view/4209600975/', 'keyword': 'Artificial Intelligence', 'location': 'United States'}, excluded_embed_metadata_keys=[], excluded_llm_metadata_keys=[], relationships={<NodeRelationship.SOURCE: '1'>: RelatedNodeInfo(node_id='cc1031a6-3da2-40c2-b828-d1304d158c86', node_type='4', metadata={'id': '4209600975', 'title': 'Academy Trainer and Curriculum Designer', 'company': 'Omilia', 'link': 'https://www.linkedin.com/jobs/view/4209600975/', 'keyword': 'Artificial Intelligence', 'location': 'United States'}, hash='cdd8221dd0687d84cfcb144f3ca744d181bf181d17070c9b92e245a43e34378d')}, metadata_template='{key}: {value}', metadata_separator='\\n', text=\"A visionary combination of technology and art that started from a small garage, Omilia is now home to solution architects, engineers, developers, linguists, and individuals that synergize and combine their expertise and passion to one goal; deliver unfeigned human experience through virtual communication.Omilia has been recognized as a Leader in the 2022 and 2023 Gartner® Magic Quadrant™ for Enterprise Conversational AI Platforms.More details regarding the Company could be found here.About UsOur Academy team is a dynamic group of passionate and highly skilled trainers who possess an intimate understanding of Omilia's cutting-edge Conversational AI platform. Committed to empowering our global partners and customers, we take pride in delivering top-notch training services worldwideWith an insatiable appetite for knowledge, we continually seek out and embrace the latest technologies to ensure we remain at the forefront of the industry. Staying up-to-date with Omilia's latest features and advancements is a fundamental part of our mission, enabling us to provide our partners and customers with the most relevant and useful informationOur team thrives in a stimulating environment filled with technical challenges and exciting tasks. We collaborate closely with knowledgeable colleagues, readily sharing insights and expertise to enrich each other's growthKey ResponsibilitiesSupervised Training DeliveryDeliver engaging and informative supervised training sessions to customers and partners on Omilia's Conversational AI platform and productsUtilize various teaching methods, tools, and resources to create a dynamic and effective learning experience for participantsAdapt training delivery based on the audience's knowledge levels, ensuring all learners can comprehend and apply the materialContent CustomizationTailor training content to meet the specific needs and requirements of individual customers and partnersWork closely with the Curriculum Designer and other stakeholders to ensure training materials align with learning objectives and are up-to-dateTraining Session ManagementSchedule and organize supervised training sessions, whether in physical or virtual environmentsProvide timely and clear communication to participants regarding training logistics, pre-requisites, and post-training supportAssessment and FeedbackConduct assessments and evaluations to measure the effectiveness of training sessions and gather feedback for continuous improvementWork with learners to address questions and challenges, providing support and guidance as neededCollaboration and Knowledge SharingCollaborate with other Curriculum Designer and other Academy team members to improve training content, e-learning material, and delivery methodologiesShare insights and best practices with colleagues to enhance the overall effectiveness of the training programManage and update the Learning Management System (LMS), ensuring courses are well-organized and up-to-dateRequirementsBachelor's degree in Education, Computer Science, Linguistics, or a related field.Proven experience (3+ years) as a trainer in the tech industry or software solutions sectorA solid understanding of fundamental software development terminology, including variables, functions, exception handling, conditional statements, and loopsExcellent communication and presentation skills, with the ability to engage and motivate learnersAbility to create a positive and inclusive learning environment for participantsStrong organizational and time management skills, with the ability to manage multiple training sessions effectivelyExcellent verbal and written communication skills in English with ability to convey information clearly and accurately; ability to explain technical aspects to technical and non-technical customers and partnersExcellent time management skills and ability to prioritize and execute tasks in a high-pressure environmentAbility and willingness to travel to customer site to deliver training courses, 20-30%Will be a plus:Expertise in Conversational AI concepts and technologiesBasic level of experience with core JavaScript (no Front end knowledge is required)Proficiency in course authoring tools such as Articulate 360 or Adobe Captivate and elearning creationProficiency in LMS such as TalentLMS or MoodleFamiliarity with CTI concepts and Genesys, NICE, RingCentral technologiesBenefitsFixed compensation;Long-term employment with the working days vacation;Development in professional growth (courses, training, etc);Being part of successful cutting-edge technology products that are making a global impact in the service industry;Proficient and fun-to-work-with colleagues;Apple gearOmilia is proud to be an equal opportunity employer and is dedicated to fostering a diverse and inclusive workplace. We believe that embracing diversity in all its forms enriches our workplace and drives our collective success. We are committed to creating an environment where everyone feels welcomed, valued, and empowered to contribute their unique perspectives without regard to factors such as race, color, religion, gender, gender identity or expression, sexual orientation, national origin, heredity, disability, age, or veteran status, all eligible candidates will be given consideration for employment.\", mimetype='text/plain', start_char_idx=0, end_char_idx=5300, metadata_seperator='\\n', text_template='{metadata_str}\\n\\n{content}'), score=0.43600053),\n",
       " NodeWithScore(node=TextNode(id_='f999df10-dbbe-4548-affd-4c9d5ba73e44', embedding=None, metadata={'id': '4206542165', 'title': 'Healthcare Business Analyst', 'company': 'Tekskills Inc.', 'link': 'https://www.linkedin.com/jobs/view/4206542165/', 'keyword': 'Artificial Intelligence', 'location': 'United States'}, excluded_embed_metadata_keys=[], excluded_llm_metadata_keys=[], relationships={<NodeRelationship.SOURCE: '1'>: RelatedNodeInfo(node_id='0338b44e-a59c-4ccf-8e4f-94d37096f920', node_type='4', metadata={'id': '4206542165', 'title': 'Healthcare Business Analyst', 'company': 'Tekskills Inc.', 'link': 'https://www.linkedin.com/jobs/view/4206542165/', 'keyword': 'Artificial Intelligence', 'location': 'United States'}, hash='e89fd992142bb430ae2205fbdd826961c8b5fa8b33a1c733633a6a7850a9745d')}, metadata_template='{key}: {value}', metadata_separator='\\n', text=\"Job Description:Responsibilities/Requirements :12+ years of experience as a Business Analyst in the healthcare payer domainFluency in Spanish language.Analyze and document business processes, workflows, and requirements.Working SQL knowledge.Deep experience and understanding of Healthcare Payer and Claims.Identify AI use cases.Experience writing user stories with proper acceptance criteria.Develop and maintain comprehensive documentation, including business requirements, process flows, and use cases.Facilitate meetings and workshops with cross-functional teams to gather and validate requirements.Ensure compliance with healthcare regulations and standards (e.g., HIPAA, ACA).Provide insights and recommendations based on data analysis to support decision-making. Lead/mentor junior business analysts and team members if needed.Stay current with industry trends and best practices in healthcare and payer systems.Excellent analytical, problem-solving, and communication skills.Ability to work independently and as part of a team.Strong attention to detail and organizational skills.Experience: -10+ YearsLocation: -Remote (Anywhere in the US) – Quarterly Travel to Puerto Rico for a week is required.Educational Qualifications: -Bachelor's degree, preferably in Computer Science or similar technical discipline .Mandatory Skills/Experience :-Expertise in core SQLExperience with HRPBusiness Systems Analysis backgroundExperience working in the Payer domainKnowledge of Healthcare Claims transactions\", mimetype='text/plain', start_char_idx=0, end_char_idx=1505, metadata_seperator='\\n', text_template='{metadata_str}\\n\\n{content}'), score=0.42261636),\n",
       " NodeWithScore(node=TextNode(id_='7ec81622-0ea0-4367-a0ca-8de53ae0bada', embedding=None, metadata={'id': '4208061941', 'title': 'Direct client position-Machine Learning Engineer-Remote', 'company': 'Accion Labs', 'link': 'https://www.linkedin.com/jobs/view/4208061941/', 'keyword': 'Artificial Intelligence', 'location': 'United States'}, excluded_embed_metadata_keys=[], excluded_llm_metadata_keys=[], relationships={<NodeRelationship.SOURCE: '1'>: RelatedNodeInfo(node_id='c13c8512-b247-4470-8dc9-6416c6ab139c', node_type='4', metadata={'id': '4208061941', 'title': 'Direct client position-Machine Learning Engineer-Remote', 'company': 'Accion Labs', 'link': 'https://www.linkedin.com/jobs/view/4208061941/', 'keyword': 'Artificial Intelligence', 'location': 'United States'}, hash='269bdcf8502755ab2d9f06cbea0bfcfc748d6d590e9763c7947e88474a530768')}, metadata_template='{key}: {value}', metadata_separator='\\n', text='Role: Machine Learning EngineerLocation: Remote with occasional travel to Dallas, TXDuration: 3–6 months (Contract)Start Date: ImmediateNOTE: Candidates should have 5-10 years of Coding experience with at least 2 years in Machine Learning, Data Analysis and Big DataTechnical SkillsStrong expertise in Machine Learning – both supervised and unsupervised methodsHands-on experience with Apache Spark and large-scale data processingKnowledge and working experience with Hadoop and TeradataExperience building and deploying scalable ML models in production environmentsNon-Technical SkillsExcellent communication and client presentation skillsAbility to present solutions and insights to clients effectivelyCollaborative mindset, with the ability to work cross-functionally in remote settings', mimetype='text/plain', start_char_idx=0, end_char_idx=789, metadata_seperator='\\n', text_template='{metadata_str}\\n\\n{content}'), score=0.41869855)]"
      ]
     },
     "execution_count": 35,
     "metadata": {},
     "output_type": "execute_result"
    }
   ],
   "source": [
    "retriever.retrieve(\"finance, marketing\")"
   ]
  },
  {
   "cell_type": "code",
   "execution_count": null,
   "id": "8fc43147",
   "metadata": {},
   "outputs": [],
   "source": [
    "qdrant_client.query_points"
   ]
  }
 ],
 "metadata": {
  "kernelspec": {
   "display_name": "Python 3",
   "language": "python",
   "name": "python3"
  },
  "language_info": {
   "codemirror_mode": {
    "name": "ipython",
    "version": 3
   },
   "file_extension": ".py",
   "mimetype": "text/x-python",
   "name": "python",
   "nbconvert_exporter": "python",
   "pygments_lexer": "ipython3",
   "version": "3.11.4"
  }
 },
 "nbformat": 4,
 "nbformat_minor": 5
}
