{
 "cells": [
  {
   "cell_type": "code",
   "execution_count": 5,
   "id": "b2603da5",
   "metadata": {},
   "outputs": [],
   "source": [
    "import pandas as pd\n",
    "import google.generativeai as genai\n",
    "import json\n",
    "import os\n",
    "from dotenv import load_dotenv"
   ]
  },
  {
   "cell_type": "code",
   "execution_count": 6,
   "id": "a8330d52",
   "metadata": {},
   "outputs": [
    {
     "data": {
      "text/plain": [
       "True"
      ]
     },
     "execution_count": 6,
     "metadata": {},
     "output_type": "execute_result"
    }
   ],
   "source": [
    "load_dotenv(r\"C:\\Users\\leduc\\OneDrive\\Desktop\\NLP\\grab-capstone-project\\NavigaTech\\AI_modules\\.env\")"
   ]
  },
  {
   "cell_type": "code",
   "execution_count": 2,
   "id": "59a558dc",
   "metadata": {},
   "outputs": [],
   "source": [
    "with open(r\"C:\\Users\\leduc\\OneDrive\\Desktop\\NLP\\grab-capstone-project\\NavigaTech\\AI_modules\\data\\rag_data\\sample_data.json\", \"rb\") as f:\n",
    "    data = json.load(f)"
   ]
  },
  {
   "cell_type": "code",
   "execution_count": 3,
   "id": "52c13f9d",
   "metadata": {},
   "outputs": [],
   "source": [
    "df = pd.DataFrame(data)"
   ]
  },
  {
   "cell_type": "code",
   "execution_count": 12,
   "id": "5cb8b42e",
   "metadata": {},
   "outputs": [
    {
     "name": "stdout",
     "output_type": "stream",
     "text": [
      "Internship Opportunity: Data Science InternAbout the Role:The planet urgently needs safe, reliable, zero-carbon energy without waste. Nuclear fusion can address the scale of this problem, but for decades, existing fusion approaches have not proven a net positive energy gain. Zap Energy has rethought the fundamental technology of fusion. As the only company using sheared-flow-stabilized Z-pinch, we present potentially the fastest path to commercially available fusion energy.Zap Energy is seeking a dedicated Data Science Intern to support the development of a proprietary data analysis framework and other ad hoc tasks, such as developing metrics for system symmetry. This role involves conducting literature reviews, implementing relevant algorithms, performing comparative performance analysis, and engaging in hands-on data analysis.Key Responsibilities:Support the development of a proprietary data analysis framework.Conduct literature reviews and implement relevant algorithms.Perform comparative performance analysis.Develop metrics for system symmetry.Engage in hands-on data analysis.Qualifications:Bachelor's degree in Physics or related fieldCurrently enrolled in a Master's/PhD program in Physics, Computational Modeling, Scientific Computing, or related fieldThis role requires a strong background in Physics. Experience solely in Data Science related to Marketing or Business Analytics is not relevant to this position.Skills and Experience Gained:Hard skills: Computational Physics, Data-Driven Modeling, Machine Learning for Scientific Computing.Soft skills: Operating in a fast-paced deep-tech startup environment, prioritization, and communication skills.LocationThis is an onsite internship located at Zap Energy HQ in Everett, WA.Internship DurationOur internship start and end timelines are flexible, and can shift according to student schedules.\n"
     ]
    }
   ],
   "source": [
    "print(df[\"description\"].iloc[0])"
   ]
  },
  {
   "cell_type": "code",
   "execution_count": 7,
   "id": "d7d68e88",
   "metadata": {},
   "outputs": [],
   "source": [
    "genai.configure(api_key=os.environ[\"GEMINI_TOKEN\"])\n",
    "ge_model = genai.GenerativeModel(\"gemini-2.0-flash\")"
   ]
  },
  {
   "cell_type": "code",
   "execution_count": null,
   "id": "7122fd8e",
   "metadata": {},
   "outputs": [],
   "source": [
    "def job_parser(jd_text):\n",
    "        \"\"\"\n",
    "        Take job description and return a JSON contain parsed contents: job level, qualifications, responsibilities, benefits\n",
    "        \"\"\"\n",
    "\n",
    "        gemini_input = f\"\"\"\n",
    "        You are an expert in job description analysis. Your task is to extract structured information from unstructured job descriptions.\n",
    "\n",
    "        Given the job description below, return the following fields in **valid JSON format**:\n",
    "\n",
    "        1. **job_level** — e.g., Internship, Entry-Level, Mid-Level, Senior, Director, etc.\n",
    "        2. **qualifications** — A list of required or preferred degrees, educational background, certifications, or prior experience.\n",
    "        3. **responsibilities** — A list of key responsibilities and tasks mentioned in the role.\n",
    "        4. **benefits** — A list of perks, learning outcomes, or benefits associated with the role (e.g., mentorship, flexibility, health insurance, skill development, etc.).\n",
    "\n",
    "        **IMPORTANT RULES**\n",
    "        - if any fields missing just return a empty list in that missing field\n",
    "        The output must follow this format:\n",
    "\n",
    "        ```json\n",
    "        {{\n",
    "                \"job_level\": \"<string>\",\n",
    "                \"qualifications & skills\": [\n",
    "                        \"<string>\",\n",
    "                        ...\n",
    "                ],\n",
    "                \"responsibilities\": [\n",
    "                        \"<string>\",\n",
    "                        ...\n",
    "                ],\n",
    "                \"benefits\": [\n",
    "                        \"<string>\",\n",
    "                        ...\n",
    "                ]\n",
    "        }}\n",
    "\n",
    "        Now parse job description:\n",
    "        {jd_text}\n",
    "\n",
    "        return with JSON format\n",
    "\"\"\"\n",
    "        res = ge_model.generate_content(gemini_input,\n",
    "                                             generation_config={\n",
    "                                                 \"temperature\": 0.2,\n",
    "                                                 \"top_k\": 2,\n",
    "                                                 \"top_p\": 0.9,\n",
    "                                                 \"max_output_tokens\": 2000,\n",
    "                                             },\n",
    "                                             )\n",
    "\n",
    "        job_parse = json.loads(res.text.replace(\"```\", \"\").replace(\"json\", \"\"))\n",
    "        return job_parse"
   ]
  },
  {
   "cell_type": "code",
   "execution_count": 26,
   "id": "72fc22e3",
   "metadata": {},
   "outputs": [
    {
     "name": "stdout",
     "output_type": "stream",
     "text": [
      "{'job_level': 'Internship', 'qualifications & skills': ['Students or early-career professionals in Computer Science, Software Engineering, or related fields', 'Looking to gain hands-on experience', 'Industry exposure', 'Mentorship in a structured environment'], 'responsibilities': ['Design, develop, and test software solutions for real-world industry applications.', 'Collaborate with mentors and peers on projects that enhance practical skills.', 'Conduct research on the latest advancements in software development, AI, and IT consulting.', 'Participate in networking sessions, professional development workshops, and resume reviews.'], 'benefits': ['Practical Experience – Work on real projects in a structured learning environment.', 'Industry Mentorship – Receive guidance from professionals and technical experts.', 'Career Advancement – Gain insights into career pathways, hiring trends, and industry expectations.', 'Networking Opportunities – Connect with startups, tech leaders, and potential employers.', 'Develop technical skills through real-world software development projects.', 'Enhance their resumes with portfolio-building work.', 'Expand their professional network by engaging with industry leaders.', 'Work on projects aligned with in-demand roles at leading tech companies.']}\n"
     ]
    }
   ],
   "source": [
    "print(job_parser(df[\"description\"].iloc[1]))"
   ]
  },
  {
   "cell_type": "code",
   "execution_count": null,
   "id": "3effc8bb",
   "metadata": {},
   "outputs": [],
   "source": []
  }
 ],
 "metadata": {
  "kernelspec": {
   "display_name": "Python 3",
   "language": "python",
   "name": "python3"
  },
  "language_info": {
   "codemirror_mode": {
    "name": "ipython",
    "version": 3
   },
   "file_extension": ".py",
   "mimetype": "text/x-python",
   "name": "python",
   "nbconvert_exporter": "python",
   "pygments_lexer": "ipython3",
   "version": "3.11.4"
  }
 },
 "nbformat": 4,
 "nbformat_minor": 5
}
